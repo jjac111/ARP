{
 "cells": [
  {
   "cell_type": "code",
   "execution_count": 2,
   "metadata": {},
   "outputs": [],
   "source": [
    "#This code is based on https://null-byte.wonderhowto.com/how-to/build-arp-scanner-using-scapy-and-python-0162731/\n",
    "import sys\n",
    "from datetime import datetime\n",
    "from scapy.all import srp, Ether, ARP, conf\n",
    "import mac_vendor_lookup"
   ]
  },
  {
   "cell_type": "code",
   "execution_count": 5,
   "metadata": {},
   "outputs": [
    {
     "name": "stdout",
     "output_type": "stream",
     "text": [
      "Enter desired interface: Wi-Fi\n",
      "Enter range of IPs to Scan for: 172.21.184.0/21\n",
      "\n",
      " Scanning... \n",
      "MAC - IP\n",
      "dc:74:a8:28:db:8c - 172.21.188.0\n",
      "00:08:e3:ff:fd:90 - 172.21.184.1\n",
      "80:e0:1d:8a:f6:0f - 172.21.184.4\n",
      "10:30:47:e6:9c:bb - 172.21.188.13\n",
      "38:ba:f8:81:6a:05 - 172.21.184.16\n",
      "d0:d7:83:85:42:15 - 172.21.184.21\n",
      "9c:e0:63:53:93:d4 - 172.21.188.22\n",
      "c4:b3:01:bf:3e:b1 - 172.21.188.23\n",
      "d4:6a:6a:73:e4:43 - 172.21.184.25\n",
      "f8:87:f1:2a:11:66 - 172.21.184.27\n",
      "8c:8e:f2:a0:12:d5 - 172.21.188.30\n",
      "08:cc:27:44:05:42 - 172.21.184.31\n",
      "78:4f:43:a0:3f:60 - 172.21.188.31\n",
      "f4:5c:89:c3:74:5b - 172.21.184.32\n",
      "34:e1:2d:dc:86:f1 - 172.21.188.37\n",
      "04:d3:95:ad:23:54 - 172.21.188.51\n",
      "58:e6:ba:e5:41:86 - 172.21.184.54\n",
      "1c:cc:d6:f8:d9:76 - 172.21.184.57\n",
      "00:9d:6b:1b:38:87 - 172.21.188.61\n",
      "d8:8f:76:65:d9:4e - 172.21.188.63\n",
      "a0:56:f3:d3:09:46 - 172.21.188.73\n",
      "4c:74:bf:1b:31:fe - 172.21.188.74\n",
      "b0:52:16:2e:2e:b9 - 172.21.188.75\n",
      "d8:9c:67:cf:fa:8d - 172.21.187.144\n",
      "58:e6:ba:98:6f:70 - 172.21.188.151\n",
      "\n",
      " Scan Complete!\n",
      "Scan Duration: 0:00:16.164648\n"
     ]
    }
   ],
   "source": [
    "try:\n",
    "    interface = input(\"Enter desired interface: \")\n",
    "    ips = input(\"Enter range of IPs to Scan for: \")\n",
    "\n",
    "except KeyboardInterrupt:\n",
    "    print (\"\\n User requested shutdown\")\n",
    "    print (\"Quiting...\")\n",
    "    sys.exit(1)\n",
    "\n",
    "print (\"\\n Scanning... \")\n",
    "start_time = datetime.now()\n",
    "\n",
    "conf.verb = 0\n",
    "ans, unans = srp(Ether(dst=\"ff:ff:ff:ff:ff:ff\")/ARP(pdst=ips), timeout=15, iface=interface, verbose=False)\n",
    "\n",
    "#print ans.summary()\n",
    "print ('MAC - IP')\n",
    "for s, r in ans:\n",
    "    print (r.sprintf(r'%Ether.src% - %ARP.psrc%'))\n",
    "\n",
    "stop_time = datetime.now()\n",
    "total_time = stop_time - start_time\n",
    "\n",
    "print (\"\\n Scan Complete!\")\n",
    "print (\"Scan Duration: %s\" %(total_time))"
   ]
  },
  {
   "cell_type": "code",
   "execution_count": 8,
   "metadata": {},
   "outputs": [
    {
     "data": {
      "text/plain": [
       "<Ether  dst=fc:01:7c:38:10:6f src=00:b7:71:ac:3f:80 type=ARP |<ARP  hwtype=0x1 ptype=IPv4 hwlen=6 plen=4 op=is-at hwsrc=dc:74:a8:28:db:8c psrc=172.21.188.0 hwdst=fc:01:7c:38:10:6f pdst=172.21.184.49 |<Padding  load='\\x00\\x00\\x00\\x00\\x00\\x00\\x00\\x00\\x00\\x00\\x00\\x00\\x00\\x00\\x00\\x00\\x00\\x00' |>>>"
      ]
     },
     "execution_count": 8,
     "metadata": {},
     "output_type": "execute_result"
    }
   ],
   "source": [
    "ans[0][1]"
   ]
  },
  {
   "cell_type": "code",
   "execution_count": 36,
   "metadata": {},
   "outputs": [],
   "source": [
    "ML.loop.stop()"
   ]
  }
 ],
 "metadata": {
  "kernelspec": {
   "display_name": "Python 3",
   "language": "python",
   "name": "python3"
  },
  "language_info": {
   "codemirror_mode": {
    "name": "ipython",
    "version": 3
   },
   "file_extension": ".py",
   "mimetype": "text/x-python",
   "name": "python",
   "nbconvert_exporter": "python",
   "pygments_lexer": "ipython3",
   "version": "3.7.3"
  }
 },
 "nbformat": 4,
 "nbformat_minor": 2
}
