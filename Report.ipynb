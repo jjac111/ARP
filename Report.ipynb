{
 "cells": [
  {
   "cell_type": "code",
   "execution_count": 9,
   "metadata": {},
   "outputs": [
    {
     "name": "stdout",
     "output_type": "stream",
     "text": [
      "Enter desired interface: Wi-Fi\n",
      "Enter range of IPs to Scan for: 172.21.184.0/21\n",
      "\n",
      " Scanning... \n",
      "MAC - IP\n",
      "98:54:1b:19:f9:ce - 172.21.184.195\n",
      "\n",
      " Scan Complete!\n",
      "Scan Duration: 0:00:15.010977\n",
      "\n",
      "\n",
      "E R R O R: KeyError:98:54:1b:19:f9:ce\n",
      "\n"
     ]
    }
   ],
   "source": [
    "#This code is based on https://null-byte.wonderhowto.com/how-to/build-arp-scanner-using-scapy-and-python-0162731/\n",
    "import sys\n",
    "from datetime import datetime\n",
    "from scapy.all import srp, Ether, ARP, conf\n",
    "from mac_vendor_lookup import MacLookup\n",
    "\n",
    "if __name__ == \"__main__\":\n",
    "\n",
    "\ttry:\n",
    "\t\tinterface = input(\"Enter desired interface: \")\n",
    "\t\tips = input(\"Enter range of IPs to Scan for: \")\n",
    "\n",
    "\texcept KeyboardInterrupt:\n",
    "\t\tprint (\"\\n User requested shutdown\")\n",
    "\t\tprint (\"Quiting...\")\n",
    "\t\tsys.exit(1)\n",
    "\n",
    "\tprint (\"\\n Scanning... \")\n",
    "\tstart_time = datetime.now()\n",
    "\n",
    "\tconf.verb = 0\n",
    "\tans, unans = srp(Ether(dst=\"ff:ff:ff:ff:ff:ff\")/ARP(pdst=ips), timeout=15, iface=interface, verbose=False)\n",
    "\n",
    "\t#print ans.summary()\n",
    "\tprint ('MAC - IP')\n",
    "\tfor s, r in ans:\n",
    "\t\tprint (r.sprintf(r'%Ether.hwsrc% - %ARP.psrc%'))\n",
    "\n",
    "\tstop_time = datetime.now()\n",
    "\ttotal_time = stop_time - start_time\n",
    "\t\n",
    "\tprint (\"\\n Scan Complete!\")\n",
    "\tprint (\"Scan Duration: %s\" %(total_time))\n",
    "\tprint()\n",
    "\n",
    "\tML = MacLookup()\n",
    "\tfor a in ans:\n",
    "\t\tmac = a[1].hwsrc\n",
    "\t\ttry:\n",
    "\t\t\tprint(ML.lookup(str(mac)))\n",
    "\t\texcept:\n",
    "\t\t\tprint('\\nE R R O R: KeyError:' + mac + '\\n')"
   ]
  },
  {
   "cell_type": "code",
   "execution_count": 18,
   "metadata": {},
   "outputs": [],
   "source": [
    "thing = ans[0][1][1]"
   ]
  },
  {
   "cell_type": "code",
   "execution_count": 20,
   "metadata": {},
   "outputs": [
    {
     "data": {
      "text/plain": [
       "<ARP  hwtype=0x1 ptype=IPv4 hwlen=6 plen=4 op=is-at hwsrc=98:54:1b:19:f9:ce psrc=172.21.184.195 hwdst=fc:01:7c:38:10:6f pdst=172.21.184.201 |<Padding  load='\\x00\\x00\\x00\\x00\\x00\\x00\\x00\\x00\\x00\\x00\\x00\\x00\\x00\\x00\\x00\\x00\\x00\\x00' |>>"
      ]
     },
     "execution_count": 20,
     "metadata": {},
     "output_type": "execute_result"
    }
   ],
   "source": [
    "thing"
   ]
  }
 ],
 "metadata": {
  "kernelspec": {
   "display_name": "Python 3",
   "language": "python",
   "name": "python3"
  },
  "language_info": {
   "codemirror_mode": {
    "name": "ipython",
    "version": 3
   },
   "file_extension": ".py",
   "mimetype": "text/x-python",
   "name": "python",
   "nbconvert_exporter": "python",
   "pygments_lexer": "ipython3",
   "version": "3.7.3"
  }
 },
 "nbformat": 4,
 "nbformat_minor": 2
}
