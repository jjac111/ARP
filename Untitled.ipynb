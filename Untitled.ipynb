{
 "cells": [
  {
   "cell_type": "code",
   "execution_count": 1,
   "metadata": {},
   "outputs": [],
   "source": [
    "#This code is based on https://null-byte.wonderhowto.com/how-to/build-arp-scanner-using-scapy-and-python-0162731/\n",
    "import sys\n",
    "from datetime import datetime\n",
    "from scapy.all import srp, Ether, ARP, conf\n"
   ]
  },
  {
   "cell_type": "code",
   "execution_count": 2,
   "metadata": {},
   "outputs": [
    {
     "name": "stdout",
     "output_type": "stream",
     "text": [
      "Enter desired interface: Wi-Fi\n",
      "Enter range of IPs to Scan for: 172.21.184.0/21\n",
      "\n",
      " Scanning... \n",
      "MAC - IP\n",
      "00:b7:71:ac:3f:80 - 172.21.188.0\n",
      "00:08:e3:ff:fd:90 - 172.21.184.1\n",
      "80:e0:1d:8a:f6:0f - 172.21.184.4\n",
      "00:b7:71:ac:3f:80 - 172.21.188.22\n",
      "00:b7:71:ac:3f:80 - 172.21.184.25\n",
      "00:b7:71:ac:3f:80 - 172.21.184.27\n",
      "00:b7:71:ac:3f:80 - 172.21.188.30\n",
      "00:b7:71:ac:3f:80 - 172.21.188.31\n",
      "00:b7:71:ac:3f:80 - 172.21.184.32\n",
      "00:b7:71:ac:3f:80 - 172.21.188.37\n",
      "00:b7:71:ac:3f:80 - 172.21.188.51\n",
      "00:b7:71:ac:3f:80 - 172.21.184.52\n",
      "00:b7:71:ac:3f:80 - 172.21.184.55\n",
      "00:b7:71:ac:3f:80 - 172.21.188.61\n",
      "00:b7:71:ac:3f:80 - 172.21.188.63\n",
      "c0:dc:da:14:83:04 - 172.21.188.68\n",
      "00:b7:71:ac:3f:80 - 172.21.187.144\n",
      "00:b7:71:ac:3f:80 - 172.21.188.151\n",
      "\n",
      " Scan Complete!\n",
      "Scan Duration: 0:00:15.501710\n"
     ]
    }
   ],
   "source": [
    "try:\n",
    "    interface = input(\"Enter desired interface: \")\n",
    "    ips = input(\"Enter range of IPs to Scan for: \")\n",
    "\n",
    "except KeyboardInterrupt:\n",
    "    print (\"\\n User requested shutdown\")\n",
    "    print (\"Quiting...\")\n",
    "    sys.exit(1)\n",
    "\n",
    "print (\"\\n Scanning... \")\n",
    "start_time = datetime.now()\n",
    "\n",
    "conf.verb = 0\n",
    "ans, unans = srp(Ether(dst=\"ff:ff:ff:ff:ff:ff\")/ARP(pdst=ips), timeout=15, iface=interface, verbose=False)\n",
    "\n",
    "#print ans.summary()\n",
    "print ('MAC - IP')\n",
    "for s, r in ans:\n",
    "    print (r.sprintf(r'%Ether.src% - %ARP.psrc%'))\n",
    "\n",
    "stop_time = datetime.now()\n",
    "total_time = stop_time - start_time\n",
    "\n",
    "print (\"\\n Scan Complete!\")\n",
    "print (\"Scan Duration: %s\" %(total_time))"
   ]
  },
  {
   "cell_type": "code",
   "execution_count": null,
   "metadata": {},
   "outputs": [],
   "source": []
  }
 ],
 "metadata": {
  "kernelspec": {
   "display_name": "Python 3",
   "language": "python",
   "name": "python3"
  },
  "language_info": {
   "codemirror_mode": {
    "name": "ipython",
    "version": 3
   },
   "file_extension": ".py",
   "mimetype": "text/x-python",
   "name": "python",
   "nbconvert_exporter": "python",
   "pygments_lexer": "ipython3",
   "version": "3.7.3"
  }
 },
 "nbformat": 4,
 "nbformat_minor": 2
}
